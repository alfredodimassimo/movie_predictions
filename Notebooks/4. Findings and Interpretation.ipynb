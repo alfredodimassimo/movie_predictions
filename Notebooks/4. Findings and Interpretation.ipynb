{
 "cells": [
  {
   "cell_type": "markdown",
   "id": "55e3f4a3",
   "metadata": {},
   "source": [
    "# 4. Findings and Interpretation\n",
    "\n",
    "#### Alfredo Di Massimo\n",
    "\n",
    "#### BrainStation, Data Science\n",
    "\n",
    "#### April 4th, 2022"
   ]
  },
  {
   "cell_type": "markdown",
   "id": "a15fda50",
   "metadata": {},
   "source": [
    "In this final notebook, we will be interpreting the findings of our best machine learning model to draw out some actionable insights, keeping in mind that the ultimate goal of the project is to better understand what is important to movie-goers who dedicate the time to watch a movie."
   ]
  },
  {
   "cell_type": "markdown",
   "id": "d9aa253e",
   "metadata": {},
   "source": [
    "___"
   ]
  },
  {
   "cell_type": "code",
   "execution_count": 1,
   "id": "5075c5d8",
   "metadata": {},
   "outputs": [],
   "source": [
    "# Importing libraries\n",
    "import numpy as np\n",
    "import pandas as pd\n",
    "import seaborn as sns\n",
    "import matplotlib.pyplot as plt\n",
    "from scipy import stats\n",
    "import pickle\n",
    "import joblib\n",
    "import dill\n",
    "\n",
    "# Text data packages\n",
    "import nltk\n",
    "import re\n",
    "import string\n",
    "from nltk.corpus import stopwords\n",
    "from nltk.stem import WordNetLemmatizer\n",
    "from sklearn.feature_extraction.text import CountVectorizer, TfidfVectorizer\n",
    "from sklearn.compose import ColumnTransformer\n",
    "\n",
    "# Preprocessing\n",
    "from sklearn.preprocessing import StandardScaler\n",
    "from sklearn.model_selection import train_test_split\n",
    "\n",
    "# Classifiers\n",
    "from sklearn.linear_model import LogisticRegression\n",
    "from sklearn.tree import DecisionTreeClassifier\n",
    "from xgboost import XGBClassifier\n",
    "\n",
    "# Model Selection\n",
    "from sklearn.model_selection import GridSearchCV\n",
    "from sklearn.model_selection import RandomizedSearchCV\n",
    "\n",
    "import warnings\n",
    "warnings.filterwarnings(\"ignore\")"
   ]
  },
  {
   "cell_type": "code",
   "execution_count": 2,
   "id": "edc643f8",
   "metadata": {},
   "outputs": [
    {
     "data": {
      "text/html": [
       "<div>\n",
       "<style scoped>\n",
       "    .dataframe tbody tr th:only-of-type {\n",
       "        vertical-align: middle;\n",
       "    }\n",
       "\n",
       "    .dataframe tbody tr th {\n",
       "        vertical-align: top;\n",
       "    }\n",
       "\n",
       "    .dataframe thead th {\n",
       "        text-align: right;\n",
       "    }\n",
       "</style>\n",
       "<table border=\"1\" class=\"dataframe\">\n",
       "  <thead>\n",
       "    <tr style=\"text-align: right;\">\n",
       "      <th></th>\n",
       "      <th>primaryTitle</th>\n",
       "      <th>runtimeMinutes</th>\n",
       "      <th>numVotes</th>\n",
       "      <th>sentiment</th>\n",
       "      <th>review</th>\n",
       "      <th>review_word_count</th>\n",
       "      <th>Action</th>\n",
       "      <th>Adult</th>\n",
       "      <th>Adventure</th>\n",
       "      <th>Animation</th>\n",
       "      <th>...</th>\n",
       "      <th>Music</th>\n",
       "      <th>Musical</th>\n",
       "      <th>Mystery</th>\n",
       "      <th>News</th>\n",
       "      <th>Romance</th>\n",
       "      <th>Sci-Fi</th>\n",
       "      <th>Sport</th>\n",
       "      <th>Thriller</th>\n",
       "      <th>War</th>\n",
       "      <th>Western</th>\n",
       "    </tr>\n",
       "  </thead>\n",
       "  <tbody>\n",
       "    <tr>\n",
       "      <th>0</th>\n",
       "      <td>The Student of Prague</td>\n",
       "      <td>85</td>\n",
       "      <td>2054</td>\n",
       "      <td>1</td>\n",
       "      <td>A good film, and one I'll watch a number of ti...</td>\n",
       "      <td>172</td>\n",
       "      <td>0.0</td>\n",
       "      <td>0.0</td>\n",
       "      <td>0.0</td>\n",
       "      <td>0.0</td>\n",
       "      <td>...</td>\n",
       "      <td>0.0</td>\n",
       "      <td>0.0</td>\n",
       "      <td>0.0</td>\n",
       "      <td>0.0</td>\n",
       "      <td>0.0</td>\n",
       "      <td>0.0</td>\n",
       "      <td>0.0</td>\n",
       "      <td>0.0</td>\n",
       "      <td>0.0</td>\n",
       "      <td>0.0</td>\n",
       "    </tr>\n",
       "    <tr>\n",
       "      <th>1</th>\n",
       "      <td>The Student of Prague</td>\n",
       "      <td>85</td>\n",
       "      <td>2054</td>\n",
       "      <td>1</td>\n",
       "      <td>In this truly fascinating, dark film, a young ...</td>\n",
       "      <td>292</td>\n",
       "      <td>0.0</td>\n",
       "      <td>0.0</td>\n",
       "      <td>0.0</td>\n",
       "      <td>0.0</td>\n",
       "      <td>...</td>\n",
       "      <td>0.0</td>\n",
       "      <td>0.0</td>\n",
       "      <td>0.0</td>\n",
       "      <td>0.0</td>\n",
       "      <td>0.0</td>\n",
       "      <td>0.0</td>\n",
       "      <td>0.0</td>\n",
       "      <td>0.0</td>\n",
       "      <td>0.0</td>\n",
       "      <td>0.0</td>\n",
       "    </tr>\n",
       "    <tr>\n",
       "      <th>2</th>\n",
       "      <td>The Student of Prague</td>\n",
       "      <td>85</td>\n",
       "      <td>2054</td>\n",
       "      <td>1</td>\n",
       "      <td>This early version of the tale 'The Student of...</td>\n",
       "      <td>142</td>\n",
       "      <td>0.0</td>\n",
       "      <td>0.0</td>\n",
       "      <td>0.0</td>\n",
       "      <td>0.0</td>\n",
       "      <td>...</td>\n",
       "      <td>0.0</td>\n",
       "      <td>0.0</td>\n",
       "      <td>0.0</td>\n",
       "      <td>0.0</td>\n",
       "      <td>0.0</td>\n",
       "      <td>0.0</td>\n",
       "      <td>0.0</td>\n",
       "      <td>0.0</td>\n",
       "      <td>0.0</td>\n",
       "      <td>0.0</td>\n",
       "    </tr>\n",
       "    <tr>\n",
       "      <th>3</th>\n",
       "      <td>The Student of Prague</td>\n",
       "      <td>85</td>\n",
       "      <td>2054</td>\n",
       "      <td>1</td>\n",
       "      <td>Those engaging the movie camera so early in th...</td>\n",
       "      <td>165</td>\n",
       "      <td>0.0</td>\n",
       "      <td>0.0</td>\n",
       "      <td>0.0</td>\n",
       "      <td>0.0</td>\n",
       "      <td>...</td>\n",
       "      <td>0.0</td>\n",
       "      <td>0.0</td>\n",
       "      <td>0.0</td>\n",
       "      <td>0.0</td>\n",
       "      <td>0.0</td>\n",
       "      <td>0.0</td>\n",
       "      <td>0.0</td>\n",
       "      <td>0.0</td>\n",
       "      <td>0.0</td>\n",
       "      <td>0.0</td>\n",
       "    </tr>\n",
       "    <tr>\n",
       "      <th>4</th>\n",
       "      <td>The Student of Prague</td>\n",
       "      <td>85</td>\n",
       "      <td>2054</td>\n",
       "      <td>1</td>\n",
       "      <td>A stupid young man becomes obsessed with a wom...</td>\n",
       "      <td>184</td>\n",
       "      <td>0.0</td>\n",
       "      <td>0.0</td>\n",
       "      <td>0.0</td>\n",
       "      <td>0.0</td>\n",
       "      <td>...</td>\n",
       "      <td>0.0</td>\n",
       "      <td>0.0</td>\n",
       "      <td>0.0</td>\n",
       "      <td>0.0</td>\n",
       "      <td>0.0</td>\n",
       "      <td>0.0</td>\n",
       "      <td>0.0</td>\n",
       "      <td>0.0</td>\n",
       "      <td>0.0</td>\n",
       "      <td>0.0</td>\n",
       "    </tr>\n",
       "  </tbody>\n",
       "</table>\n",
       "<p>5 rows × 30 columns</p>\n",
       "</div>"
      ],
      "text/plain": [
       "            primaryTitle  runtimeMinutes  numVotes  sentiment  \\\n",
       "0  The Student of Prague              85      2054          1   \n",
       "1  The Student of Prague              85      2054          1   \n",
       "2  The Student of Prague              85      2054          1   \n",
       "3  The Student of Prague              85      2054          1   \n",
       "4  The Student of Prague              85      2054          1   \n",
       "\n",
       "                                              review  review_word_count  \\\n",
       "0  A good film, and one I'll watch a number of ti...                172   \n",
       "1  In this truly fascinating, dark film, a young ...                292   \n",
       "2  This early version of the tale 'The Student of...                142   \n",
       "3  Those engaging the movie camera so early in th...                165   \n",
       "4  A stupid young man becomes obsessed with a wom...                184   \n",
       "\n",
       "   Action  Adult  Adventure  Animation  ...  Music  Musical  Mystery  News  \\\n",
       "0     0.0    0.0        0.0        0.0  ...    0.0      0.0      0.0   0.0   \n",
       "1     0.0    0.0        0.0        0.0  ...    0.0      0.0      0.0   0.0   \n",
       "2     0.0    0.0        0.0        0.0  ...    0.0      0.0      0.0   0.0   \n",
       "3     0.0    0.0        0.0        0.0  ...    0.0      0.0      0.0   0.0   \n",
       "4     0.0    0.0        0.0        0.0  ...    0.0      0.0      0.0   0.0   \n",
       "\n",
       "   Romance  Sci-Fi  Sport  Thriller  War  Western  \n",
       "0      0.0     0.0    0.0       0.0  0.0      0.0  \n",
       "1      0.0     0.0    0.0       0.0  0.0      0.0  \n",
       "2      0.0     0.0    0.0       0.0  0.0      0.0  \n",
       "3      0.0     0.0    0.0       0.0  0.0      0.0  \n",
       "4      0.0     0.0    0.0       0.0  0.0      0.0  \n",
       "\n",
       "[5 rows x 30 columns]"
      ]
     },
     "execution_count": 2,
     "metadata": {},
     "output_type": "execute_result"
    }
   ],
   "source": [
    "# Load in the data\n",
    "movies = joblib.load('movies.pkl')\n",
    "movies.head()"
   ]
  },
  {
   "cell_type": "code",
   "execution_count": 3,
   "id": "40c3e15a",
   "metadata": {},
   "outputs": [
    {
     "name": "stdout",
     "output_type": "stream",
     "text": [
      "The shape of the dependent variable: (17534,) & (7515,)\n",
      "The shape of the independent variables: (17534, 28) & (7515, 28)\n"
     ]
    }
   ],
   "source": [
    "# Assign our features to X \n",
    "X = movies.drop(['primaryTitle', 'sentiment'], axis=1)\n",
    "\n",
    "# Assign our target varibale to y\n",
    "y = movies['sentiment']\n",
    "\n",
    "# applying an 80%-20% train-test split\n",
    "X_train, X_test, y_train, y_test = train_test_split(X, \n",
    "                                                    y, \n",
    "                                                    test_size=0.3, \n",
    "                                                    stratify=y, \n",
    "                                                    random_state=1)\n",
    "\n",
    "# Check \n",
    "print (f'The shape of the dependent variable: {y_train.shape} & {y_test.shape}')\n",
    "print (f'The shape of the independent variables: {X_train.shape} & {X_test.shape}')"
   ]
  },
  {
   "cell_type": "markdown",
   "id": "a7e89670",
   "metadata": {},
   "source": [
    "### Load in functions required by models"
   ]
  },
  {
   "cell_type": "code",
   "execution_count": 4,
   "id": "86b54dec",
   "metadata": {},
   "outputs": [],
   "source": [
    "# Load in list of stopwords (found in appendix)\n",
    "stopwords = joblib.load('stopwords.pkl')\n",
    "\n",
    "def my_tokenizer(sentence):\n",
    "    # remove punctuation and set to lower case\n",
    "    for punctuation_mark in string.punctuation:\n",
    "        sentence = sentence.replace(punctuation_mark,'').lower()\n",
    "\n",
    "    # split sentence into words\n",
    "    listofwords = sentence.split(' ')\n",
    "    listoflemmatized_words = []\n",
    "    \n",
    "    # remove stopwords and any tokens that are just empty strings\n",
    "    for word in listofwords:\n",
    "        if (not word in stopwords) and (word!=''):\n",
    "            # Lemmatize words\n",
    "            lemmatizer = WordNetLemmatizer()\n",
    "            lemmatized_word = lemmatizer.lemmatize(word)\n",
    "            listoflemmatized_words.append(lemmatized_word)\n",
    "\n",
    "    return listoflemmatized_words"
   ]
  },
  {
   "cell_type": "code",
   "execution_count": 5,
   "id": "87fef1c7",
   "metadata": {},
   "outputs": [],
   "source": [
    "def define_col_trans(input_text, vectorizer):\n",
    "    '''\n",
    "    Returns a ColumnTransformer which first performs a \n",
    "    passthrough on the numeric columns, then applies\n",
    "    a vectorizer on the `text` column\n",
    "    \n",
    "    PARAMETERS:\n",
    "    - input_text: str, to name the vectorizer tuple\n",
    "    - vectorizer: Sklearn text vectorizer\n",
    "    \n",
    "    RETURNS:\n",
    "    - col_trans: sklearn ColumnTransformer\n",
    "    \n",
    "    '''\n",
    "    \n",
    "    # Vectorize text data (cleaned_reviews column) and let everything else pass through\n",
    "    \n",
    "    col_trans = ColumnTransformer([\n",
    "        (input_text, vectorizer, 'review')\n",
    "    ], \n",
    "        remainder='passthrough', \n",
    "        sparse_threshold=0)\n",
    "    \n",
    "    return col_trans"
   ]
  },
  {
   "cell_type": "markdown",
   "id": "c7ace4a8",
   "metadata": {},
   "source": [
    "___"
   ]
  },
  {
   "cell_type": "markdown",
   "id": "4696d843",
   "metadata": {},
   "source": [
    "## Model Interpretation"
   ]
  },
  {
   "cell_type": "markdown",
   "id": "a39e4033",
   "metadata": {},
   "source": [
    "In this section we will load in our best model and inspect the coefficients of words used in positive and negative movie reviews."
   ]
  },
  {
   "cell_type": "code",
   "execution_count": 6,
   "id": "726efd2b",
   "metadata": {},
   "outputs": [],
   "source": [
    "# Load in model\n",
    "fitted_grid = joblib.load('fitted_gridsearch_model.pkl')"
   ]
  },
  {
   "cell_type": "markdown",
   "id": "b90a1de4",
   "metadata": {},
   "source": [
    "To interpret which words provide the most actionable insight, we will analyze the top 20 words with positive coefficients and the top 20 words with negative coefficients."
   ]
  },
  {
   "cell_type": "code",
   "execution_count": 17,
   "id": "ae70d324",
   "metadata": {},
   "outputs": [
    {
     "data": {
      "text/plain": [
       "array(['bow_vec__0', 'bow_vec__0 10', 'bow_vec__007', ...,\n",
       "       'remainder__Thriller', 'remainder__War', 'remainder__Western'],\n",
       "      dtype=object)"
      ]
     },
     "execution_count": 17,
     "metadata": {},
     "output_type": "execute_result"
    }
   ],
   "source": [
    "# start by taking a look at our features created by passing our transformer function in the GridSearch parameters\n",
    "features = fitted_grid.best_estimator_['transformer'].get_feature_names_out()\n",
    "features"
   ]
  },
  {
   "cell_type": "markdown",
   "id": "d2c5e73a",
   "metadata": {},
   "source": [
    "Before proceeding however, we can determine how many features were generated upon applying the transformer function on our reviews after running the GridSearch."
   ]
  },
  {
   "cell_type": "code",
   "execution_count": 60,
   "id": "67e27902",
   "metadata": {},
   "outputs": [
    {
     "data": {
      "text/plain": [
       "25346"
      ]
     },
     "execution_count": 60,
     "metadata": {},
     "output_type": "execute_result"
    }
   ],
   "source": [
    "len(features)"
   ]
  },
  {
   "cell_type": "markdown",
   "id": "a3d0fc1b",
   "metadata": {},
   "source": [
    "Unfortunately, after applying the tokenizer which included our list of stop words as well as the other parameters used in the Bag of Words vectorizer (min_df=10 to limit our features to tokens that appeared in at least 10 reviews and n_grams=(1, 3), in essence 1 to 3 continuous sequences of words) we are left with over 25,300 features. Our model did not remove as many frequently occurring and invaluable tokens as expected and so this will make interpreting the coeficients of our tokens rather difficult."
   ]
  },
  {
   "cell_type": "markdown",
   "id": "9e649f7c",
   "metadata": {},
   "source": [
    "Due to how computationally heavy it was to run the GridSearch in our previous notebook, changing the parameters of our tokenizer and our vectorizer to then rerun the module would be inneficient. Rather, knowing the specific hyperparameters of our best model, we can simply run our Logistic Regression using the best estimators determined by our GridSearchCV and apply the changes to our vectorizer manually to reduce the number of columns immediately."
   ]
  },
  {
   "cell_type": "code",
   "execution_count": 240,
   "id": "32ce181b",
   "metadata": {
    "scrolled": true
   },
   "outputs": [
    {
     "name": "stdout",
     "output_type": "stream",
     "text": [
      "Pipeline(steps=[('transformer',\n",
      "                 ColumnTransformer(remainder='passthrough', sparse_threshold=0,\n",
      "                                   transformers=[('bow_vec',\n",
      "                                                  CountVectorizer(min_df=10,\n",
      "                                                                  ngram_range=(1,\n",
      "                                                                               3),\n",
      "                                                                  tokenizer=<function my_tokenizer at 0x000001DC68D24B80>),\n",
      "                                                  'review')])),\n",
      "                ('scaler', StandardScaler()),\n",
      "                ('model', LogisticRegression(C=0.001))])\n"
     ]
    }
   ],
   "source": [
    "# Determine the best estimator's parameters\n",
    "print(fitted_grid.best_estimator_)"
   ]
  },
  {
   "cell_type": "code",
   "execution_count": 241,
   "id": "dd5096ec",
   "metadata": {},
   "outputs": [
    {
     "data": {
      "text/plain": [
       "(17534, 590)"
      ]
     },
     "execution_count": 241,
     "metadata": {},
     "output_type": "execute_result"
    }
   ],
   "source": [
    "# Perform a manual vecotrization using the Bag of Words vectorizer on our reviews\n",
    "\n",
    "# Instantiate the vectorizer\n",
    "bagofwords = CountVectorizer(min_df=500, tokenizer=my_tokenizer, ngram_range=(1, 3))\n",
    "\n",
    "# Fit the vectorizer\n",
    "bagofwords.fit(X_train['review'])\n",
    "\n",
    "# Transform our train and test sets\n",
    "X_train_transformed = bagofwords.transform(X_train['review']) \n",
    "X_test_transformed = bagofwords.transform(X_test['review']) \n",
    "\n",
    "X_train_transformed.shape"
   ]
  },
  {
   "cell_type": "markdown",
   "id": "3830b56e",
   "metadata": {},
   "source": [
    "We can immediately see that by increasing the min_df value to have words that appear in at least 300 reviews, we've drastically reduced the number of features from over 25,000 to just over 1,000. We can proceed by applying the same Logistic Regression model determined to be the best estimator by our GridSearchCV in order to inspect the highest and lowest coefficients."
   ]
  },
  {
   "cell_type": "code",
   "execution_count": 242,
   "id": "7358be8a",
   "metadata": {},
   "outputs": [
    {
     "data": {
      "text/plain": [
       "LogisticRegression(C=0.001)"
      ]
     },
     "execution_count": 242,
     "metadata": {},
     "output_type": "execute_result"
    }
   ],
   "source": [
    "logreg = LogisticRegression(C = 0.001)\n",
    "logreg.fit(X_train_transformed, y_train)"
   ]
  },
  {
   "cell_type": "code",
   "execution_count": 243,
   "id": "d57dc536",
   "metadata": {},
   "outputs": [],
   "source": [
    "# Assign the features from our BoW to a variable to be able to plot our top and bottom 20 words\n",
    "words = bagofwords.get_feature_names()"
   ]
  },
  {
   "cell_type": "code",
   "execution_count": 244,
   "id": "25441200",
   "metadata": {},
   "outputs": [],
   "source": [
    "# We can store the tokens from our model as well as their coefficients into a dataframe\n",
    "coef_df = pd.DataFrame({\"coefficient\": logreg.coef_[0], \"token\": words})\n",
    "\n",
    "# Sort the tokens based on their coefficients in descending order\n",
    "coef_df = coef_df.sort_values(\"coefficient\", ascending=False)\n",
    "\n",
    "# Store the top and bottom 20 words in our dataframe into their own dataframes for plotting\n",
    "top_20_words = coef_df.sort_values('coefficient', ascending=False).head(20)\n",
    "bot_20_words = coef_df.sort_values('coefficient', ascending=True).head(20)"
   ]
  },
  {
   "cell_type": "code",
   "execution_count": 245,
   "id": "b7a7a64b",
   "metadata": {
    "scrolled": false
   },
   "outputs": [
    {
     "data": {
      "image/png": "[encoded data removed]",
      "text/plain": [
       "<Figure size 1080x720 with 2 Axes>"
      ]
     },
     "metadata": {
      "needs_background": "light"
     },
     "output_type": "display_data"
    }
   ],
   "source": [
    "# plot top and bottom 20 words\n",
    "plt.subplots(1,2, figsize=(15,10))\n",
    "\n",
    "plt.subplot(1,2,1)\n",
    "plt.barh(bot_20_words['token'], bot_20_words['coefficient'], color='tab:orange' )\n",
    "plt.xlabel('Negative Coefficients')\n",
    "plt.ylabel('Word')\n",
    "plt.yticks(fontsize=11)\n",
    "\n",
    "plt.subplot(1,2,2)\n",
    "plt.barh(top_20_words['token'], top_20_words['coefficient'])\n",
    "plt.xlabel('Positive Coefficients')\n",
    "plt.yticks(fontsize=11)\n",
    "plt.suptitle('Top 20 Negative and Positive Words By Coefficient')\n",
    "\n",
    "sns.despine()\n",
    "plt.tight_layout()\n",
    "plt.savefig('Top and Bottom 20 Words.png', bbox_inches='tight')\n",
    "plt.show()"
   ]
  },
  {
   "cell_type": "markdown",
   "id": "9ddfe90d",
   "metadata": {},
   "source": [
    "We can reapply the Logistic Regression model to inspect the coefficients of our non-text columns as well."
   ]
  },
  {
   "cell_type": "code",
   "execution_count": 246,
   "id": "e07586e4",
   "metadata": {},
   "outputs": [
    {
     "data": {
      "text/plain": [
       "LogisticRegression(C=0.001)"
      ]
     },
     "execution_count": 246,
     "metadata": {},
     "output_type": "execute_result"
    }
   ],
   "source": [
    "# Assign our features to X \n",
    "X2 = movies.drop(['primaryTitle', 'sentiment', 'review'], axis=1)\n",
    "\n",
    "# Assign our target varibale to y\n",
    "y2 = movies['sentiment']\n",
    "\n",
    "# applying an 80%-20% train-test split\n",
    "X2_train, X2_test, y2_train, y2_test = train_test_split(X2, \n",
    "                                                    y2, \n",
    "                                                    test_size=0.3, \n",
    "                                                    stratify=y, \n",
    "                                                    random_state=1)\n",
    "\n",
    "# Instantiate the scaler\n",
    "SS = StandardScaler()\n",
    "\n",
    "# Fit the scaler\n",
    "SS.fit(X2_train)\n",
    "\n",
    "# Transform the training and test sets \n",
    "X2_train_ss = SS.transform(X2_train)\n",
    "X2_test_ss = SS.transform(X2_test)\n",
    "\n",
    "logreg2 = LogisticRegression(C = 0.001)\n",
    "logreg2.fit(X2_train_ss, y2_train)"
   ]
  },
  {
   "cell_type": "code",
   "execution_count": 247,
   "id": "d620fa27",
   "metadata": {},
   "outputs": [
    {
     "data": {
      "image/png": "[encoded data removed]",
      "text/plain": [
       "<Figure size 1080x720 with 1 Axes>"
      ]
     },
     "metadata": {
      "needs_background": "light"
     },
     "output_type": "display_data"
    }
   ],
   "source": [
    "coef_df2 = pd.DataFrame({\"coefficient\": logreg2.coef_[0], \"feature\": X2.columns})\n",
    "coef_df2 = coef_df2.sort_values(\"coefficient\", ascending=False)\n",
    "\n",
    "# Plot coefficient of non-text features\n",
    "plt.figure(figsize=(15,10))\n",
    "plt.barh(coef_df2['feature'], coef_df2['coefficient'])\n",
    "plt.title('Coefficients of Non-Text Features')\n",
    "plt.xlabel('Regression Coefficient')\n",
    "plt.ylabel('Non-text features')\n",
    "plt.savefig('Coefficients of Non-Text Features.png', bbox_inches='tight')\n",
    "plt.show()"
   ]
  },
  {
   "cell_type": "markdown",
   "id": "5b26eb9b",
   "metadata": {},
   "source": [
    "___"
   ]
  },
  {
   "cell_type": "markdown",
   "id": "8ecb0cb4",
   "metadata": {},
   "source": [
    "## Conclusion: Interpretation and Actionable Insights"
   ]
  },
  {
   "cell_type": "markdown",
   "id": "acff141d",
   "metadata": {},
   "source": [
    "### Positive Words"
   ]
  },
  {
   "cell_type": "markdown",
   "id": "61bace95",
   "metadata": {},
   "source": [
    "While many of the tokens listed portray a general sense of satisfaction towards the movie being reviewed, there are some words that stand out from which we can gain some insight into the reviewers thoughts:\n",
    "- **Performance**: Here it's clear that the performance given by the actors is the most important factor when assessing whether a movie is considered \"good\" or \"bad\". This coincides with the token **\"acting\"** appearing earlier in the wordcloud from notebook 2, indicating that the cast chosen for a movie is particularly important to movie-goers. This can indicate that directors should allocate a significant portion of the funds available on the cast hired to act in a movie.\n",
    "- ***Specific Adjectives***: While many adjectives were excluded from considerationdue to their inherently positive or negative nature (ie.: terrific, terrble) severl adjectes provide insight into what the consumer was feeling or what caused them to feel that a movie was \"good\". We can see the strong impact that words like **fun**, **brilliant** and even **different** had on predicting the sentiment behind a review. Using such words in promotional material can further increase the likelihood that a consumer would be interested in paying an admission fee to watch a movie.\n",
    "- **Story**: Unsurprisingly, a movie's plot is a key feature for reviewers when expressing whether they thought a movie was \"good\" or \"bad\"."
   ]
  },
  {
   "cell_type": "markdown",
   "id": "c4c407c4",
   "metadata": {},
   "source": [
    "### Negative Words"
   ]
  },
  {
   "cell_type": "markdown",
   "id": "c4088c83",
   "metadata": {},
   "source": [
    "The words used for movies perceived as being \"bad\" can be interpreted as follows:\n",
    "- **Script** & **plot**: being two closely related words with some of the lowest coefficients, **Script** & **plot** indicate that reviewers placed great importance on the story the movie, but were disappointed. Knowing this, directors can place a greater emphasis on ensuring that the quality of a movie's script is well received prior to the release of a movie. This can be done by allocating more financial resources towards studying a specific theme addressed by the movie or perhaps hiring an expert in a given field. This specific sentiment coincides with the token **story** appearing as one of the top 20 words discussed above.\n",
    "- ***Specific Adjectives***: As with positive reviews, some specific adjectives used in \"bad\" reviews can give us some insight into why reviewers were dissatisfied after watching a movie. Terms such as **nothing**, **dull** and **poor** imply that the movie left the consumer wanting, that there was a lack of something in their experience. When contrasting with the positive adjectives used, it seems that movies are more likely to receive a negative review if they fail to draw out a powerful emotional experience within viewers."
   ]
  },
  {
   "cell_type": "markdown",
   "id": "145ed189",
   "metadata": {},
   "source": [
    "### Non-Text Features"
   ]
  },
  {
   "cell_type": "markdown",
   "id": "df13d8d3",
   "metadata": {},
   "source": [
    "We can see in the *'Coefficients of Numeric Features'* plot that a movie's **runtimeMinutes** has the greatest impact on the reviewer's sentiment implying that longer movies are more well-received by movie goers. Contrary to earlier expectations however, the length of a review measured by the **review_word_count** has hardly any effect on the sentiment score behind a review; contrary to what I believed from personal experience of reading reviews, longer reviews cannot necessarily be associated with a reviewers sentiment.<br/>\n",
    "\n",
    "It is interesting to note the vast difference in coefficients between the genres of a movie and their impact on the sentiment. **Drama** being the most frequently occurring genre within our dataset has a surprisingly low impact on reviewer sentiment whereas **Film-Noir** and **Documentary** being the least frequently occurring genres have the highest impact. This can very possibly be due to an imbalance in the distribution of the genres within the dataset."
   ]
  },
  {
   "cell_type": "markdown",
   "id": "c2fcbcc3",
   "metadata": {},
   "source": [
    "## What's Next?"
   ]
  },
  {
   "cell_type": "markdown",
   "id": "468b275d",
   "metadata": {},
   "source": [
    "- Run additional machine learning models: I would be interested in running neural networks and use word embeddings to further determine if we can improve our predictive capability.\n",
    "- Use the unlabeled reviews provided in the dataset to perform unsupervised machine learning;\n",
    "- Further improve our existing models by optimizing them;\n",
    "- Improve our vectorizer and transformer functions by applying more stringent token reduction techniques\n",
    "- Determine significant themes in positive and negative words that apply to specific genres (a uniform distribution of our genres would be required.)"
   ]
  }
 ],
 "metadata": {
  "kernelspec": {
   "display_name": "Python 3 (ipykernel)",
   "language": "python",
   "name": "python3"
  },
  "language_info": {
   "codemirror_mode": {
    "name": "ipython",
    "version": 3
   },
   "file_extension": ".py",
   "mimetype": "text/x-python",
   "name": "python",
   "nbconvert_exporter": "python",
   "pygments_lexer": "ipython3",
   "version": "3.9.7"
  }
 },
 "nbformat": 4,
 "nbformat_minor": 5
}
