{
 "cells": [
  {
   "cell_type": "markdown",
   "id": "44ba7033",
   "metadata": {},
   "source": [
    "# 3. Modeling\n",
    "\n",
    "#### Alfredo Di Massimo\n",
    "\n",
    "#### BrainStation, Data Science\n",
    "\n",
    "#### April 4th, 2022"
   ]
  },
  {
   "cell_type": "markdown",
   "id": "0d6cc53b",
   "metadata": {},
   "source": [
    "___"
   ]
  },
  {
   "cell_type": "markdown",
   "id": "3ee1b057",
   "metadata": {},
   "source": [
    "Having prepared our data in previous notebooks for machine learning, this notebook will deploy classification models to be able to predict the sentiment behind a review as either \"bad\" or \"good\". I will be testing the following models specifically:\n",
    "\n",
    "1. Logistic Regression\n",
    "2. Decision Tree Classifier\n",
    "3. XGBClassifier\n",
    "\n",
    "Given that the reviews are in text format, we will need to transform the data into numeric form to be able to feed it into our models. This will be done using the following tools:\n",
    "\n",
    "1. Bag of Words\n",
    "2. Term Frequency-Inverse Document Frequency (TF-IDF)\n",
    "\n",
    "In order to better understand the factors that can increase the likelihood of a movie being rated as \"good\" or \"bad\", we will make use of stopwords in our tokenization step. This will inhibit words with inherently positive or negative meanings (ex: \"great\" & \"horrible\") from appearing in our analysis as they provide no actual insight into what makes a movie successful.\n",
    "\n",
    "In addition to this, we will explore both stemming and lemmatization, two word normalization techniques. Both are techniques that find the root form of a given word with their own advantages and disadvantages:\n",
    "- **Stemming**: While significantly simpler and computationally efficient, stemming can lead to a higher number of errors and misspellings;\n",
    "- **Lemmatization**: Considers the context of a word and converts it to a meaningful base form, however is much more complex and cimputationally expensive.\n",
    "\n",
    "Given the dataset is not too large, we will apply lemmatization to produce more accurate findings."
   ]
  },
  {
   "cell_type": "code",
   "execution_count": 1,
   "id": "363c2fc4",
   "metadata": {},
   "outputs": [],
   "source": [
    "# Importing libraries\n",
    "import numpy as np\n",
    "import pandas as pd\n",
    "import seaborn as sns\n",
    "import matplotlib.pyplot as plt\n",
    "from scipy import stats\n",
    "import joblib\n",
    "import dill as pickle\n",
    "import pickle\n",
    "\n",
    "# Text data packages\n",
    "import nltk\n",
    "import re\n",
    "import string\n",
    "from nltk.corpus import stopwords\n",
    "from nltk.stem import WordNetLemmatizer\n",
    "from sklearn.feature_extraction.text import CountVectorizer, TfidfVectorizer\n",
    "from sklearn.compose import ColumnTransformer\n",
    "\n",
    "# Preprocessing\n",
    "from sklearn.preprocessing import StandardScaler, MinMaxScaler\n",
    "from sklearn.model_selection import train_test_split\n",
    "\n",
    "# Classifiers \n",
    "from sklearn.dummy import DummyClassifier\n",
    "from sklearn.linear_model import LogisticRegression\n",
    "from sklearn.tree import DecisionTreeClassifier\n",
    "from xgboost import XGBClassifier\n",
    "\n",
    "# Model Selection\n",
    "from sklearn.model_selection import GridSearchCV\n",
    "from sklearn.model_selection import RandomizedSearchCV\n",
    "\n",
    "# Validation\n",
    "from sklearn.model_selection import cross_val_score\n",
    "from sklearn.metrics import confusion_matrix, plot_confusion_matrix\n",
    "\n",
    "# Evaluation \n",
    "from sklearn.metrics import classification_report, roc_curve, roc_auc_score\n",
    "\n",
    "# Other required packages\n",
    "from sklearn.pipeline import Pipeline\n",
    "\n",
    "import warnings\n",
    "warnings.filterwarnings(\"ignore\")"
   ]
  },
  {
   "cell_type": "code",
   "execution_count": 2,
   "id": "65fb53e1",
   "metadata": {},
   "outputs": [
    {
     "data": {
      "text/html": [
       "<div>\n",
       "<style scoped>\n",
       "    .dataframe tbody tr th:only-of-type {\n",
       "        vertical-align: middle;\n",
       "    }\n",
       "\n",
       "    .dataframe tbody tr th {\n",
       "        vertical-align: top;\n",
       "    }\n",
       "\n",
       "    .dataframe thead th {\n",
       "        text-align: right;\n",
       "    }\n",
       "</style>\n",
       "<table border=\"1\" class=\"dataframe\">\n",
       "  <thead>\n",
       "    <tr style=\"text-align: right;\">\n",
       "      <th></th>\n",
       "      <th>primaryTitle</th>\n",
       "      <th>runtimeMinutes</th>\n",
       "      <th>numVotes</th>\n",
       "      <th>sentiment</th>\n",
       "      <th>review</th>\n",
       "      <th>review_word_count</th>\n",
       "      <th>Action</th>\n",
       "      <th>Adult</th>\n",
       "      <th>Adventure</th>\n",
       "      <th>Animation</th>\n",
       "      <th>...</th>\n",
       "      <th>Music</th>\n",
       "      <th>Musical</th>\n",
       "      <th>Mystery</th>\n",
       "      <th>News</th>\n",
       "      <th>Romance</th>\n",
       "      <th>Sci-Fi</th>\n",
       "      <th>Sport</th>\n",
       "      <th>Thriller</th>\n",
       "      <th>War</th>\n",
       "      <th>Western</th>\n",
       "    </tr>\n",
       "  </thead>\n",
       "  <tbody>\n",
       "    <tr>\n",
       "      <th>0</th>\n",
       "      <td>The Student of Prague</td>\n",
       "      <td>85</td>\n",
       "      <td>2054</td>\n",
       "      <td>1</td>\n",
       "      <td>A good film, and one I'll watch a number of ti...</td>\n",
       "      <td>172</td>\n",
       "      <td>0.0</td>\n",
       "      <td>0.0</td>\n",
       "      <td>0.0</td>\n",
       "      <td>0.0</td>\n",
       "      <td>...</td>\n",
       "      <td>0.0</td>\n",
       "      <td>0.0</td>\n",
       "      <td>0.0</td>\n",
       "      <td>0.0</td>\n",
       "      <td>0.0</td>\n",
       "      <td>0.0</td>\n",
       "      <td>0.0</td>\n",
       "      <td>0.0</td>\n",
       "      <td>0.0</td>\n",
       "      <td>0.0</td>\n",
       "    </tr>\n",
       "    <tr>\n",
       "      <th>1</th>\n",
       "      <td>The Student of Prague</td>\n",
       "      <td>85</td>\n",
       "      <td>2054</td>\n",
       "      <td>1</td>\n",
       "      <td>In this truly fascinating, dark film, a young ...</td>\n",
       "      <td>292</td>\n",
       "      <td>0.0</td>\n",
       "      <td>0.0</td>\n",
       "      <td>0.0</td>\n",
       "      <td>0.0</td>\n",
       "      <td>...</td>\n",
       "      <td>0.0</td>\n",
       "      <td>0.0</td>\n",
       "      <td>0.0</td>\n",
       "      <td>0.0</td>\n",
       "      <td>0.0</td>\n",
       "      <td>0.0</td>\n",
       "      <td>0.0</td>\n",
       "      <td>0.0</td>\n",
       "      <td>0.0</td>\n",
       "      <td>0.0</td>\n",
       "    </tr>\n",
       "    <tr>\n",
       "      <th>2</th>\n",
       "      <td>The Student of Prague</td>\n",
       "      <td>85</td>\n",
       "      <td>2054</td>\n",
       "      <td>1</td>\n",
       "      <td>This early version of the tale 'The Student of...</td>\n",
       "      <td>142</td>\n",
       "      <td>0.0</td>\n",
       "      <td>0.0</td>\n",
       "      <td>0.0</td>\n",
       "      <td>0.0</td>\n",
       "      <td>...</td>\n",
       "      <td>0.0</td>\n",
       "      <td>0.0</td>\n",
       "      <td>0.0</td>\n",
       "      <td>0.0</td>\n",
       "      <td>0.0</td>\n",
       "      <td>0.0</td>\n",
       "      <td>0.0</td>\n",
       "      <td>0.0</td>\n",
       "      <td>0.0</td>\n",
       "      <td>0.0</td>\n",
       "    </tr>\n",
       "    <tr>\n",
       "      <th>3</th>\n",
       "      <td>The Student of Prague</td>\n",
       "      <td>85</td>\n",
       "      <td>2054</td>\n",
       "      <td>1</td>\n",
       "      <td>Those engaging the movie camera so early in th...</td>\n",
       "      <td>165</td>\n",
       "      <td>0.0</td>\n",
       "      <td>0.0</td>\n",
       "      <td>0.0</td>\n",
       "      <td>0.0</td>\n",
       "      <td>...</td>\n",
       "      <td>0.0</td>\n",
       "      <td>0.0</td>\n",
       "      <td>0.0</td>\n",
       "      <td>0.0</td>\n",
       "      <td>0.0</td>\n",
       "      <td>0.0</td>\n",
       "      <td>0.0</td>\n",
       "      <td>0.0</td>\n",
       "      <td>0.0</td>\n",
       "      <td>0.0</td>\n",
       "    </tr>\n",
       "    <tr>\n",
       "      <th>4</th>\n",
       "      <td>The Student of Prague</td>\n",
       "      <td>85</td>\n",
       "      <td>2054</td>\n",
       "      <td>1</td>\n",
       "      <td>A stupid young man becomes obsessed with a wom...</td>\n",
       "      <td>184</td>\n",
       "      <td>0.0</td>\n",
       "      <td>0.0</td>\n",
       "      <td>0.0</td>\n",
       "      <td>0.0</td>\n",
       "      <td>...</td>\n",
       "      <td>0.0</td>\n",
       "      <td>0.0</td>\n",
       "      <td>0.0</td>\n",
       "      <td>0.0</td>\n",
       "      <td>0.0</td>\n",
       "      <td>0.0</td>\n",
       "      <td>0.0</td>\n",
       "      <td>0.0</td>\n",
       "      <td>0.0</td>\n",
       "      <td>0.0</td>\n",
       "    </tr>\n",
       "  </tbody>\n",
       "</table>\n",
       "<p>5 rows × 30 columns</p>\n",
       "</div>"
      ],
      "text/plain": [
       "            primaryTitle  runtimeMinutes  numVotes  sentiment  \\\n",
       "0  The Student of Prague              85      2054          1   \n",
       "1  The Student of Prague              85      2054          1   \n",
       "2  The Student of Prague              85      2054          1   \n",
       "3  The Student of Prague              85      2054          1   \n",
       "4  The Student of Prague              85      2054          1   \n",
       "\n",
       "                                              review  review_word_count  \\\n",
       "0  A good film, and one I'll watch a number of ti...                172   \n",
       "1  In this truly fascinating, dark film, a young ...                292   \n",
       "2  This early version of the tale 'The Student of...                142   \n",
       "3  Those engaging the movie camera so early in th...                165   \n",
       "4  A stupid young man becomes obsessed with a wom...                184   \n",
       "\n",
       "   Action  Adult  Adventure  Animation  ...  Music  Musical  Mystery  News  \\\n",
       "0     0.0    0.0        0.0        0.0  ...    0.0      0.0      0.0   0.0   \n",
       "1     0.0    0.0        0.0        0.0  ...    0.0      0.0      0.0   0.0   \n",
       "2     0.0    0.0        0.0        0.0  ...    0.0      0.0      0.0   0.0   \n",
       "3     0.0    0.0        0.0        0.0  ...    0.0      0.0      0.0   0.0   \n",
       "4     0.0    0.0        0.0        0.0  ...    0.0      0.0      0.0   0.0   \n",
       "\n",
       "   Romance  Sci-Fi  Sport  Thriller  War  Western  \n",
       "0      0.0     0.0    0.0       0.0  0.0      0.0  \n",
       "1      0.0     0.0    0.0       0.0  0.0      0.0  \n",
       "2      0.0     0.0    0.0       0.0  0.0      0.0  \n",
       "3      0.0     0.0    0.0       0.0  0.0      0.0  \n",
       "4      0.0     0.0    0.0       0.0  0.0      0.0  \n",
       "\n",
       "[5 rows x 30 columns]"
      ]
     },
     "execution_count": 2,
     "metadata": {},
     "output_type": "execute_result"
    }
   ],
   "source": [
    "# Load in the data\n",
    "movies = joblib.load('movies.pkl')\n",
    "movies.head()"
   ]
  },
  {
   "cell_type": "code",
   "execution_count": 3,
   "id": "dc1745a4",
   "metadata": {},
   "outputs": [
    {
     "data": {
      "text/plain": [
       "(25049, 30)"
      ]
     },
     "execution_count": 3,
     "metadata": {},
     "output_type": "execute_result"
    }
   ],
   "source": [
    "movies.shape"
   ]
  },
  {
   "cell_type": "markdown",
   "id": "b4ec3631",
   "metadata": {},
   "source": [
    "## Machine Learning Workflow\n",
    "\n",
    "We will clearly outline the steps taken throughout this notebook, defining our workflow in order to ultimately develop an accurate model that will allow us to extract, score, classify and visualize the thoughts behind the reviews left by movie-goers within our dataset:\n",
    "\n",
    "1. Creating a function for advanced tokenization - this will be applied to both vectorizers later for advanced tokenization of the text\n",
    "2. Preparing data and applying Helper Function\n",
    "3. Performing a train-test split on the data\n",
    "4. Establish a baseline model\n",
    "5. Fit our machine learning models <br/>\n",
    "    5.1 Fitting Logistic Regression and DecisionTreeClassifier using GridSearch CV\n",
    "    5.2 Evaluate our best model\n",
    "    5.3 Fitting XGBoost using RandomizedSearchCV\n",
    "    5.4 Evaluate the XGBoost"
   ]
  },
  {
   "cell_type": "markdown",
   "id": "7d8a2d2f",
   "metadata": {},
   "source": [
    "___"
   ]
  },
  {
   "cell_type": "markdown",
   "id": "60db0b80",
   "metadata": {},
   "source": [
    "### 1. Create custom tokenizer"
   ]
  },
  {
   "cell_type": "markdown",
   "id": "ccd50941",
   "metadata": {},
   "source": [
    "Our custom tokenizer will be applied to both the Bag of Words and TF-IDF vectorizers, applying the tokenization features we will define below. The goal of the tokenizer is to minimize the number of words kept after vecotrization so that only words that can provide us insight into what is important to reviewers remain for analysis."
   ]
  },
  {
   "cell_type": "code",
   "execution_count": 4,
   "id": "2021eb88",
   "metadata": {},
   "outputs": [],
   "source": [
    "# Load in list of stopwords (found in appendix)\n",
    "stopwords = joblib.load('stopwords.pkl')\n",
    "\n",
    "def my_tokenizer(sentence):\n",
    "    # remove punctuation and set to lower case\n",
    "    for punctuation_mark in string.punctuation:\n",
    "        sentence = sentence.replace(punctuation_mark,'').lower()\n",
    "\n",
    "    # split sentence into words\n",
    "    listofwords = sentence.split(' ')\n",
    "    listoflemmatized_words = []\n",
    "    \n",
    "    # remove stopwords and any tokens that are just empty strings\n",
    "    for word in listofwords:\n",
    "        if (not word in stopwords) and (word!=''):\n",
    "            # Lemmatize words\n",
    "            lemmatizer = WordNetLemmatizer()\n",
    "            lemmatized_word = lemmatizer.lemmatize(word)\n",
    "            listoflemmatized_words.append(lemmatized_word)\n",
    "\n",
    "    return listoflemmatized_words"
   ]
  },
  {
   "cell_type": "markdown",
   "id": "78d371e1",
   "metadata": {},
   "source": [
    "### 2. Preparing data and applying Helper Function"
   ]
  },
  {
   "cell_type": "markdown",
   "id": "4b6abe50",
   "metadata": {},
   "source": [
    "The function below (originally defined by [Allistair Cota](https://github.com/allistaircota/rate_my_restaurant/blob/main/notebooks/NB3-Modelling.ipynb) and modified to factor out text data not being analyzed by [Andrew Dang](https://github.com/andrew-dang/whisky_predictions/blob/main/3_Modeling.ipynb)) allows us to apply multiple vectorizers to our text data returning a sparse matrix based on the specified vectorizer."
   ]
  },
  {
   "cell_type": "code",
   "execution_count": 5,
   "id": "e41ab579",
   "metadata": {},
   "outputs": [
    {
     "data": {
      "text/plain": [
       "['primaryTitle',\n",
       " 'runtimeMinutes',\n",
       " 'numVotes',\n",
       " 'sentiment',\n",
       " 'review_word_count',\n",
       " 'Action',\n",
       " 'Adult',\n",
       " 'Adventure',\n",
       " 'Animation',\n",
       " 'Biography',\n",
       " 'Comedy',\n",
       " 'Crime',\n",
       " 'Documentary',\n",
       " 'Drama',\n",
       " 'Family',\n",
       " 'Fantasy',\n",
       " 'Film-Noir',\n",
       " 'History',\n",
       " 'Horror',\n",
       " 'Music',\n",
       " 'Musical',\n",
       " 'Mystery',\n",
       " 'News',\n",
       " 'Romance',\n",
       " 'Sci-Fi',\n",
       " 'Sport',\n",
       " 'Thriller',\n",
       " 'War',\n",
       " 'Western']"
      ]
     },
     "execution_count": 5,
     "metadata": {},
     "output_type": "execute_result"
    }
   ],
   "source": [
    "text_data = movies['review']\n",
    "numeric_data = movies.drop(['review'], axis=1) #primaryTitle will be dropped shortly as we are not including it in our analysis\n",
    "\n",
    "# We must pass column names as arguments into the ColumnTransformer\n",
    "num_cols = numeric_data.columns.tolist()\n",
    "num_cols"
   ]
  },
  {
   "cell_type": "code",
   "execution_count": 6,
   "id": "7c215a45",
   "metadata": {},
   "outputs": [],
   "source": [
    "def define_col_trans(input_text, vectorizer):\n",
    "    '''\n",
    "    Returns a ColumnTransformer which first performs a \n",
    "    passthrough on the numeric columns, then applies\n",
    "    a vectorizer on the `text` column\n",
    "    \n",
    "    PARAMETERS:\n",
    "    - input_text: str, to name the vectorizer tuple\n",
    "    - vectorizer: Sklearn text vectorizer\n",
    "    \n",
    "    RETURNS:\n",
    "    - col_trans: sklearn ColumnTransformer\n",
    "    \n",
    "    '''\n",
    "    \n",
    "    # Vectorize text data (cleaned_reviews column) and let everything else pass through\n",
    "    \n",
    "    col_trans = ColumnTransformer([\n",
    "        (input_text, vectorizer, 'review')\n",
    "    ], \n",
    "        remainder='passthrough', \n",
    "        sparse_threshold=0)\n",
    "    \n",
    "    return col_trans"
   ]
  },
  {
   "cell_type": "markdown",
   "id": "abacb5e4",
   "metadata": {},
   "source": [
    "In order to pass our **reviews** into the transformer so that it may be vectorized, we must separate the features into text and numeric data in order to avoid transforming any column other than **reviews**."
   ]
  },
  {
   "cell_type": "markdown",
   "id": "ff752030",
   "metadata": {},
   "source": [
    "### 3. Performing a train-test split on the data"
   ]
  },
  {
   "cell_type": "markdown",
   "id": "08a3d5f1",
   "metadata": {},
   "source": [
    "Performing a train-test split is required prior to performing machine learning techniques in order to train our models on 70%-85% of the dataset and then test our models with the remaining 15%-30% percent. Prior to performing the split however, we will assign our X (independent variables) and y (dependant/target variable)."
   ]
  },
  {
   "cell_type": "code",
   "execution_count": 7,
   "id": "15c6696d",
   "metadata": {},
   "outputs": [
    {
     "name": "stdout",
     "output_type": "stream",
     "text": [
      "The shape of the dependent variable: (17534,) & (7515,)\n",
      "The shape of the independent variables: (17534, 28) & (7515, 28)\n"
     ]
    }
   ],
   "source": [
    "# Assign our features to X \n",
    "X = movies.drop(['primaryTitle', 'sentiment'], axis=1)\n",
    "\n",
    "# Assign our target varibale to y\n",
    "y = movies['sentiment']\n",
    "\n",
    "# applying an 70%-30% train-test split\n",
    "X_train, X_test, y_train, y_test = train_test_split(X, \n",
    "                                                    y, \n",
    "                                                    test_size=0.3, \n",
    "                                                    stratify=y, # stratify maintains the data's distribution\n",
    "                                                    random_state=1) \n",
    "\n",
    "# Check \n",
    "print (f'The shape of the dependent variable: {y_train.shape} & {y_test.shape}')\n",
    "print (f'The shape of the independent variables: {X_train.shape} & {X_test.shape}')"
   ]
  },
  {
   "cell_type": "markdown",
   "id": "4a8929fd",
   "metadata": {},
   "source": [
    "**Note on `primaryTitle`**: We won't include **primaryTitle** as it is only used to identify specfic reviews rather than provide insight into the actual sentiment of a review."
   ]
  },
  {
   "cell_type": "markdown",
   "id": "f9c65cf0",
   "metadata": {},
   "source": [
    "With the ColumnTransformer defined and the data split, we can now define our 2 column transformers."
   ]
  },
  {
   "cell_type": "code",
   "execution_count": 8,
   "id": "94765759",
   "metadata": {},
   "outputs": [],
   "source": [
    "# Bag of words\n",
    "bow_vec = define_col_trans('bow_vec', CountVectorizer(min_df=10, tokenizer=my_tokenizer, ngram_range=(1, 3)))\n",
    "\n",
    "#TF-IDF\n",
    "tfidf_vec = define_col_trans('tfidf_vec', TfidfVectorizer(min_df=10, tokenizer=my_tokenizer, ngram_range=(1, 3)))\n",
    "\n",
    "list_of_vecs = [bow_vec, tfidf_vec]"
   ]
  },
  {
   "cell_type": "markdown",
   "id": "0e3f954e",
   "metadata": {},
   "source": [
    "We can now prepare the 2 pipelines with which we will simultaneously vectorize our review column, scale the numeric columns, apply dimensionality reduction and fit our models."
   ]
  },
  {
   "cell_type": "markdown",
   "id": "471aee25",
   "metadata": {},
   "source": [
    "### 4. Establish a baseline model"
   ]
  },
  {
   "cell_type": "markdown",
   "id": "6d276a68",
   "metadata": {},
   "source": [
    "We can now establish a baseline model against which to measure the success of our machine learning models with the `DummyClassifier`. This model will determine which is the most frequently occurring class within our dataset."
   ]
  },
  {
   "cell_type": "code",
   "execution_count": 9,
   "id": "08dde120",
   "metadata": {
    "scrolled": true
   },
   "outputs": [
    {
     "data": {
      "text/plain": [
       "Text(0.5, 1.0, 'Review Sentiment Distribution')"
      ]
     },
     "execution_count": 9,
     "metadata": {},
     "output_type": "execute_result"
    },
    {
     "data": {
      "image/png": "[encoded data removed]",
      "text/plain": [
       "<Figure size 432x288 with 1 Axes>"
      ]
     },
     "metadata": {
      "needs_background": "light"
     },
     "output_type": "display_data"
    }
   ],
   "source": [
    "plt.figure()\n",
    "plt.hist(movies['sentiment'])\n",
    "plt.xlabel('Sentiment')\n",
    "plt.ylabel('Number of Occurrences')\n",
    "plt.title('Review Sentiment Distribution')"
   ]
  },
  {
   "cell_type": "markdown",
   "id": "d0b4beb3",
   "metadata": {},
   "source": [
    "Looking at the above movies sentiment distribution, we can expect our DummyClassifier to always predict that a movie review's sentiment is \"good\"."
   ]
  },
  {
   "cell_type": "code",
   "execution_count": 10,
   "id": "97d9c5fa",
   "metadata": {},
   "outputs": [
    {
     "name": "stdout",
     "output_type": "stream",
     "text": [
      "The DummyClassifier's train score: 0.5423748146458309\n"
     ]
    }
   ],
   "source": [
    "dummy_clf = DummyClassifier().fit(X_train, y_train)\n",
    "print(f\"The DummyClassifier's train score: {dummy_clf.score(X_train, y_train)}\")"
   ]
  },
  {
   "cell_type": "code",
   "execution_count": 11,
   "id": "d0a6922f",
   "metadata": {},
   "outputs": [
    {
     "name": "stdout",
     "output_type": "stream",
     "text": [
      "0.5423819028609448\n"
     ]
    }
   ],
   "source": [
    "# Have the baseline model make predictions\n",
    "y_pred = dummy_clf.predict(X_test)\n",
    "print(dummy_clf.score(X_test, y_test))"
   ]
  },
  {
   "cell_type": "markdown",
   "id": "994969d4",
   "metadata": {},
   "source": [
    "We can visualize the accuracy of our baseline bodel using a confusion matrix."
   ]
  },
  {
   "cell_type": "code",
   "execution_count": 12,
   "id": "f899a81a",
   "metadata": {
    "scrolled": true
   },
   "outputs": [
    {
     "name": "stdout",
     "output_type": "stream",
     "text": [
      "[[   0 3439]\n",
      " [   0 4076]]\n"
     ]
    }
   ],
   "source": [
    "print(confusion_matrix(y_test, y_pred))"
   ]
  },
  {
   "cell_type": "code",
   "execution_count": 13,
   "id": "c302a2ba",
   "metadata": {},
   "outputs": [
    {
     "data": {
      "text/html": [
       "<div>\n",
       "<style scoped>\n",
       "    .dataframe tbody tr th:only-of-type {\n",
       "        vertical-align: middle;\n",
       "    }\n",
       "\n",
       "    .dataframe tbody tr th {\n",
       "        vertical-align: top;\n",
       "    }\n",
       "\n",
       "    .dataframe thead th {\n",
       "        text-align: right;\n",
       "    }\n",
       "</style>\n",
       "<table border=\"1\" class=\"dataframe\">\n",
       "  <thead>\n",
       "    <tr style=\"text-align: right;\">\n",
       "      <th></th>\n",
       "      <th>Predicted Bad</th>\n",
       "      <th>Predicted Good</th>\n",
       "    </tr>\n",
       "  </thead>\n",
       "  <tbody>\n",
       "    <tr>\n",
       "      <th>True Bad</th>\n",
       "      <td>0</td>\n",
       "      <td>3439</td>\n",
       "    </tr>\n",
       "    <tr>\n",
       "      <th>True Good</th>\n",
       "      <td>0</td>\n",
       "      <td>4076</td>\n",
       "    </tr>\n",
       "  </tbody>\n",
       "</table>\n",
       "</div>"
      ],
      "text/plain": [
       "           Predicted Bad  Predicted Good\n",
       "True Bad               0            3439\n",
       "True Good              0            4076"
      ]
     },
     "metadata": {},
     "output_type": "display_data"
    }
   ],
   "source": [
    "# Generate confusion matrix\n",
    "sent_matrix = confusion_matrix(y_test, y_pred)\n",
    "\n",
    "# label rows and columns\n",
    "sent_df = pd.DataFrame(\n",
    "    sent_matrix, \n",
    "    columns=[\"Predicted Bad\", \"Predicted Good\"],\n",
    "    index=[\"True Bad\", \"True Good\"]\n",
    ")\n",
    "\n",
    "display(sent_df)"
   ]
  },
  {
   "cell_type": "code",
   "execution_count": 14,
   "id": "3dc2329a",
   "metadata": {},
   "outputs": [
    {
     "data": {
      "image/png": "[encoded data removed]",
      "text/plain": [
       "<Figure size 432x288 with 2 Axes>"
      ]
     },
     "metadata": {
      "needs_background": "light"
     },
     "output_type": "display_data"
    }
   ],
   "source": [
    "# the function expects the estimator, inputs and target as parameters\n",
    "plot_confusion_matrix(dummy_clf, X_test, y_test, cmap='Blues');"
   ]
  },
  {
   "cell_type": "markdown",
   "id": "74e16ea4",
   "metadata": {},
   "source": [
    "As expected, because the \"good\" movie reviews class is the most frequently occurring, our baseline model had an accuracy score of **54%**. In essence, based solely on the distribution of our 2 classes, one can predict that a movie review's sentiment is good 54% of the time. We will use this percentage as a baseline when fitting our machine learning models and disregard any models that perform worse."
   ]
  },
  {
   "cell_type": "markdown",
   "id": "ffee26f4",
   "metadata": {},
   "source": [
    "### 5. Apply Machine Learning Models with GridSearch"
   ]
  },
  {
   "cell_type": "markdown",
   "id": "7899217b",
   "metadata": {},
   "source": [
    "Having established a baseline model for comparison, we can now begin fitting and evaluating our machine learning models. We will apply the models into our a pipeline and use that pipeline within the SKLearn GridSeacrch tool to optimize the hyperparameters. We'll use GridSeachCV to determine which of our following two models has the lowest cross-validation scores while applying both our BagOfWords and TF-IDF vectorizers:\n",
    "- Logistic Regression\n",
    "- DecisionTreeClassifier"
   ]
  },
  {
   "cell_type": "code",
   "execution_count": 15,
   "id": "f8c42d97",
   "metadata": {},
   "outputs": [],
   "source": [
    "# First we will create a placeholder for the steps in our machine learning process using a pipeline\n",
    "estimators = [\n",
    "    ('transformer', bow_vec),\n",
    "    ('scaler', StandardScaler()),    \n",
    "    ('model', LogisticRegression())\n",
    "]\n",
    "\n",
    "pipe = Pipeline(estimators)"
   ]
  },
  {
   "cell_type": "code",
   "execution_count": null,
   "id": "c4b596e8",
   "metadata": {},
   "outputs": [],
   "source": [
    "# Load in model\n",
    "fitted_grid = joblib.load('fitted_gridsearch_model.pkl')"
   ]
  },
  {
   "cell_type": "markdown",
   "id": "56789539",
   "metadata": {},
   "source": [
    "**If you wish to manually fit the model to the data, uncomment the following code block (CTRL+/). Otherwise, the model has been loaded in above.**"
   ]
  },
  {
   "cell_type": "code",
   "execution_count": 16,
   "id": "1a674244",
   "metadata": {
    "scrolled": false
   },
   "outputs": [
    {
     "name": "stdout",
     "output_type": "stream",
     "text": [
      "Wall time: 33min 45s\n"
     ]
    }
   ],
   "source": [
    "# %%time\n",
    "# # Specificy the hyperparameters for each model\n",
    "# param_grid = [\n",
    "#     {\n",
    "#     'transformer': list_of_vecs, \n",
    "#     'scaler': [StandardScaler()],    \n",
    "#     'model': [LogisticRegression()],\n",
    "#     'model__penalty': ['l2'],\n",
    "#     'model__C': [0.001, 0.01, 0.1, 1,]\n",
    "#     },\n",
    "#     {\n",
    "#     'transformer': list_of_vecs, \n",
    "#     'scaler': [StandardScaler()],\n",
    "#     'model': [DecisionTreeClassifier()],\n",
    "#     'model__max_depth': [2, 3, 4]\n",
    "#     }\n",
    "# ]\n",
    "\n",
    "# # Determine the best estimators with GridSearchCV\n",
    "# grid = GridSearchCV(pipe, param_grid, cv=5, n_jobs=-2)\n",
    "\n",
    "# fitted_grid = grid.fit(X_train, y_train)"
   ]
  },
  {
   "cell_type": "markdown",
   "id": "810c9bed",
   "metadata": {},
   "source": [
    "We can now print the results of our GridSearch to see which model has the best estimators."
   ]
  },
  {
   "cell_type": "code",
   "execution_count": 17,
   "id": "8374bf99",
   "metadata": {
    "scrolled": false
   },
   "outputs": [
    {
     "name": "stdout",
     "output_type": "stream",
     "text": [
      "Pipeline(steps=[('transformer',\n",
      "                 ColumnTransformer(remainder='passthrough', sparse_threshold=0,\n",
      "                                   transformers=[('bow_vec',\n",
      "                                                  CountVectorizer(min_df=10,\n",
      "                                                                  ngram_range=(1,\n",
      "                                                                               3),\n",
      "                                                                  tokenizer=<function my_tokenizer at 0x0000022F5B1C1E50>),\n",
      "                                                  'review')])),\n",
      "                ('scaler', StandardScaler()),\n",
      "                ('model', LogisticRegression(C=0.001))])\n"
     ]
    }
   ],
   "source": [
    "print(fitted_grid.best_estimator_)"
   ]
  },
  {
   "cell_type": "code",
   "execution_count": 18,
   "id": "c6086960",
   "metadata": {
    "scrolled": true
   },
   "outputs": [
    {
     "name": "stdout",
     "output_type": "stream",
     "text": [
      "The best model's train score: 0.9984601345956428\n"
     ]
    }
   ],
   "source": [
    "print(f\"The best model's train score: {fitted_grid.score(X_train, y_train)}\")"
   ]
  },
  {
   "cell_type": "markdown",
   "id": "bbafd62b",
   "metadata": {},
   "source": [
    "### Model Evaluation"
   ]
  },
  {
   "cell_type": "markdown",
   "id": "bf3150c0",
   "metadata": {},
   "source": [
    "We can see that our GridSearchCV determined that the Logistic Regression with a C-value of 0.001 and Bag of Words vectorizer provided our best estimator. We can visualize our actual and predicted values using a Confusion Matrix in the folowing code block."
   ]
  },
  {
   "cell_type": "code",
   "execution_count": 19,
   "id": "b3ab694e",
   "metadata": {},
   "outputs": [
    {
     "data": {
      "text/html": [
       "<div>\n",
       "<style scoped>\n",
       "    .dataframe tbody tr th:only-of-type {\n",
       "        vertical-align: middle;\n",
       "    }\n",
       "\n",
       "    .dataframe tbody tr th {\n",
       "        vertical-align: top;\n",
       "    }\n",
       "\n",
       "    .dataframe thead th {\n",
       "        text-align: right;\n",
       "    }\n",
       "</style>\n",
       "<table border=\"1\" class=\"dataframe\">\n",
       "  <thead>\n",
       "    <tr style=\"text-align: right;\">\n",
       "      <th></th>\n",
       "      <th>Predicted Bad</th>\n",
       "      <th>Predicted Good</th>\n",
       "    </tr>\n",
       "  </thead>\n",
       "  <tbody>\n",
       "    <tr>\n",
       "      <th>True Bad</th>\n",
       "      <td>2938</td>\n",
       "      <td>501</td>\n",
       "    </tr>\n",
       "    <tr>\n",
       "      <th>True Good</th>\n",
       "      <td>389</td>\n",
       "      <td>3687</td>\n",
       "    </tr>\n",
       "  </tbody>\n",
       "</table>\n",
       "</div>"
      ],
      "text/plain": [
       "           Predicted Bad  Predicted Good\n",
       "True Bad            2938             501\n",
       "True Good            389            3687"
      ]
     },
     "metadata": {},
     "output_type": "display_data"
    }
   ],
   "source": [
    "# use the fitted grid search to make predictions.\n",
    "y_pred = fitted_grid.predict(X_test)\n",
    "\n",
    "# Generate confusion matrix\n",
    "sent_matrix = confusion_matrix(y_test, y_pred)\n",
    "\n",
    "# label rows and columns\n",
    "sent_df = pd.DataFrame(\n",
    "    sent_matrix, \n",
    "    columns=[\"Predicted Bad\", \"Predicted Good\"],\n",
    "    index=[\"True Bad\", \"True Good\"]\n",
    ")\n",
    "\n",
    "display(sent_df)"
   ]
  },
  {
   "cell_type": "code",
   "execution_count": 20,
   "id": "0aa7dae0",
   "metadata": {},
   "outputs": [
    {
     "data": {
      "image/png": "[encoded data removed]",
      "text/plain": [
       "<Figure size 432x288 with 2 Axes>"
      ]
     },
     "metadata": {
      "needs_background": "light"
     },
     "output_type": "display_data"
    }
   ],
   "source": [
    "plot_confusion_matrix(fitted_grid, X_test, y_test);"
   ]
  },
  {
   "cell_type": "markdown",
   "id": "75b9477b",
   "metadata": {},
   "source": [
    "We can interpret the confusion matrix above by using SKLearn's `classification_report` to compute the model's precision, recall and $F_1$ score. With these, we can interpret our model's predictions."
   ]
  },
  {
   "cell_type": "code",
   "execution_count": 21,
   "id": "7fa8043b",
   "metadata": {},
   "outputs": [
    {
     "name": "stdout",
     "output_type": "stream",
     "text": [
      "              precision    recall  f1-score   support\n",
      "\n",
      "           0       0.88      0.85      0.87      3439\n",
      "           1       0.88      0.90      0.89      4076\n",
      "\n",
      "    accuracy                           0.88      7515\n",
      "   macro avg       0.88      0.88      0.88      7515\n",
      "weighted avg       0.88      0.88      0.88      7515\n",
      "\n"
     ]
    }
   ],
   "source": [
    "report_initial = classification_report(y_test, y_pred)\n",
    "print(report_initial)"
   ]
  },
  {
   "cell_type": "markdown",
   "id": "d8e109cf",
   "metadata": {},
   "source": [
    "Based on the classification report for our GridSearchCV's best estimator, we determined the following:\n",
    "- Of the total 3,327 reviews predicted to be negative, our model correctly predicted 2,938, whereas for the total 4,188 positive reviews, our model correctly predicted 3,687. This gave our model 88% negative and positive precision scores. With this score, we can be relatively confident that our model accurately identifies specific sentiments as actually being \"bad\" or \"good\"\n",
    "- In terms of recall, our model scored 85% for negative prediction and 90% for positive predictions. In essence, of the actual 3,439 negative reviews, our model correctly predicted 2,938 whereas for the actual 4,076 positive reviews, our model correctly predicted 3,687.\n",
    "- The precision and recall scores together gave our model an 87% $F_1$ score for negative reviews and 89% $F_1$ for positive reviews.\n",
    "- Overall, our model was **88%** accurate at predicting the correct sentiment behind our test set. It should be noted that there is some significant overfitting to our training set given the model's accuracy on our training set is practically 100%. \n",
    "\n",
    "Though we will move forward with our evaluation, it should be noted that to rectify this overfitting, we could increase the size of our test set during our train-test split as a means of avoiding the overfitting."
   ]
  },
  {
   "cell_type": "markdown",
   "id": "5848dc03",
   "metadata": {},
   "source": [
    "##### AUC-ROC Curve"
   ]
  },
  {
   "cell_type": "markdown",
   "id": "b0a8de9a",
   "metadata": {},
   "source": [
    "As noted earlier in this notebook, the dataset has a relatively balanced distribution therefore another evaluation tool we can use is the AUC-ROC (Area Under the Curve - Receiver Operator Characteristic) curve. This is noteworthy in contrast to an imbalanced dataset where the ROC curve can be easily changed and thus misleading due to a smaller number of correct or incorrect predictions. The AUC-ROC cruve will allow us to determine the optimal True Positive Rate (TPR) and False Positive Rate (FPR) by plotting the different threshold values for classifying our positive class."
   ]
  },
  {
   "cell_type": "code",
   "execution_count": 22,
   "id": "748f6390",
   "metadata": {},
   "outputs": [],
   "source": [
    "# We first determine the probability of predictions\n",
    "y_proba = fitted_grid.predict_proba(X_test)[:,1]"
   ]
  },
  {
   "cell_type": "code",
   "execution_count": 23,
   "id": "fcfdfebc",
   "metadata": {},
   "outputs": [
    {
     "data": {
      "image/png": "[encoded data removed]",
      "text/plain": [
       "<Figure size 432x288 with 1 Axes>"
      ]
     },
     "metadata": {
      "needs_background": "light"
     },
     "output_type": "display_data"
    },
    {
     "name": "stdout",
     "output_type": "stream",
     "text": [
      "Area under curve (AUC):0.9464140333375092\n",
      "\n"
     ]
    }
   ],
   "source": [
    "fprs, tprs, thresholds = roc_curve(y_test, y_proba)\n",
    "roc_auc = roc_auc_score(y_test, y_proba)\n",
    "\n",
    "plt.figure()\n",
    "plt.plot(fprs, tprs, color='darkorange',\n",
    "         lw=2, label='AUC = %0.2f' % roc_auc)\n",
    "plt.plot([0, 1], [0, 1], color='navy', lw=2, linestyle='--')\n",
    "plt.xlabel('False Positive Rate (FPR)')\n",
    "plt.ylabel('True Positive Rate (TPR)')\n",
    "plt.title('ROC Curve for Movie Sentiment Prediction (Logistic Regression)')\n",
    "plt.legend(loc=\"best\")\n",
    "plt.show()\n",
    "\n",
    "print(f'Area under curve (AUC):{roc_auc}')\n",
    "print()"
   ]
  },
  {
   "cell_type": "markdown",
   "id": "aff6d0bb",
   "metadata": {},
   "source": [
    "The Area Under the ROC curve measures the probability that our model will rank a positive review as positive and a negative review as negative. In the case of our model, that probabilty is an excellent **94.6%**!"
   ]
  },
  {
   "cell_type": "markdown",
   "id": "2b5ec315",
   "metadata": {},
   "source": [
    "We can now save this fitted model and move forward with applying our last model, the XGBoost."
   ]
  },
  {
   "cell_type": "code",
   "execution_count": 24,
   "id": "25138b2f",
   "metadata": {},
   "outputs": [
    {
     "data": {
      "text/plain": [
       "['fitted_gridsearch_model.pkl']"
      ]
     },
     "execution_count": 24,
     "metadata": {},
     "output_type": "execute_result"
    }
   ],
   "source": [
    " # Save best estimator\n",
    "fitted_gridsearch_model = fitted_grid\n",
    "joblib.dump(fitted_grid, 'fitted_gridsearch_model.pkl')"
   ]
  },
  {
   "cell_type": "markdown",
   "id": "b589c17c",
   "metadata": {},
   "source": [
    "### XGBoost"
   ]
  },
  {
   "cell_type": "markdown",
   "id": "93dbbed7",
   "metadata": {},
   "source": [
    "To run our XGBoost, we will use SKLearn's RandomizedSearchCV as opposed to GridSearchCV as we did above. The primary difference is that RandomizedSearchCV will randomly select the combination of hyperparameters upon which we run our model. While the result in parameter settings is similiar, the RandomizedSearchCV run time will be significantly lower."
   ]
  },
  {
   "cell_type": "code",
   "execution_count": null,
   "id": "cba4c6d4",
   "metadata": {},
   "outputs": [],
   "source": [
    "# Load in model\n",
    "fitted_search = joblib.load('randsearch_model_xgb.pkl')"
   ]
  },
  {
   "cell_type": "markdown",
   "id": "f3984097",
   "metadata": {},
   "source": [
    "**If you wish to manually fit the model to the data, uncomment the following code block (CTRL+/). Otherwise, the model has been loaded in above.**"
   ]
  },
  {
   "cell_type": "code",
   "execution_count": 26,
   "id": "557cfe78",
   "metadata": {
    "scrolled": false
   },
   "outputs": [
    {
     "name": "stdout",
     "output_type": "stream",
     "text": [
      "Fitting 5 folds for each of 10 candidates, totalling 50 fits\n",
      "[22:47:46] WARNING: C:/Users/Administrator/workspace/xgboost-win64_release_1.5.1/src/learner.cc:1115: Starting in XGBoost 1.3.0, the default evaluation metric used with the objective 'binary:logistic' was changed from 'error' to 'logloss'. Explicitly set eval_metric if you'd like to restore the old behavior.\n",
      "Wall time: 1h 28min 51s\n"
     ]
    }
   ],
   "source": [
    "# %%time\n",
    "# # Using RandomizedSearchCV to find the optimal values for XGBoost hyperparameters\n",
    "# # Setup the pipeline\n",
    "# estimators2 = [\n",
    "#     ('transformer', bow_vec),\n",
    "#     ('scaler', StandardScaler()),\n",
    "#     ('model', XGBClassifier())\n",
    "# ]\n",
    "\n",
    "# pipe2 = Pipeline(estimators2)\n",
    "\n",
    "# # Define which hyperparameters we want to tune\n",
    "# param_grid2 = {\n",
    "#           'transformer': list_of_vecs,\n",
    "#           'scaler': [StandardScaler()],\n",
    "#           'model__max_depth': [1, 2, 3, 4],\n",
    "#           'model__learning_rate': [0.01, 0.1, 0.3],\n",
    "#           'model__n_estimators': [100, 200]\n",
    "# }\n",
    "\n",
    "# # Fit RandomizedSearchCV\n",
    "# rand_search = RandomizedSearchCV(pipe2, param_grid2, verbose=3, n_jobs=-2)\n",
    "# fitted_search = rand_search.fit(X_train, y_train)"
   ]
  },
  {
   "cell_type": "code",
   "execution_count": 27,
   "id": "f79e5964",
   "metadata": {},
   "outputs": [
    {
     "name": "stdout",
     "output_type": "stream",
     "text": [
      "Pipeline(steps=[('transformer',\n",
      "                 ColumnTransformer(remainder='passthrough', sparse_threshold=0,\n",
      "                                   transformers=[('bow_vec',\n",
      "                                                  CountVectorizer(min_df=10,\n",
      "                                                                  ngram_range=(1,\n",
      "                                                                               3),\n",
      "                                                                  tokenizer=<function my_tokenizer at 0x0000022F5B1C1E50>),\n",
      "                                                  'review')])),\n",
      "                ('scaler', StandardScaler()),\n",
      "                ('model',\n",
      "                 XGBClassifier(base_score=0.5, booster='gbtree',\n",
      "                               colsample_bylevel=1, colsample_bynode=1,...\n",
      "                               gamma=0, gpu_id=-1, importance_type=None,\n",
      "                               interaction_constraints='', learning_rate=0.01,\n",
      "                               max_delta_step=0, max_depth=2,\n",
      "                               min_child_weight=1, missing=nan,\n",
      "                               monotone_constraints='()', n_estimators=100,\n",
      "                               n_jobs=8, num_parallel_tree=1, predictor='auto',\n",
      "                               random_state=0, reg_alpha=0, reg_lambda=1,\n",
      "                               scale_pos_weight=1, subsample=1,\n",
      "                               tree_method='exact', validate_parameters=1,\n",
      "                               verbosity=None))])\n"
     ]
    }
   ],
   "source": [
    "# Print the optimal hyperparameter values \n",
    "print(fitted_search.best_estimator_)"
   ]
  },
  {
   "cell_type": "code",
   "execution_count": 28,
   "id": "737dbb06",
   "metadata": {},
   "outputs": [
    {
     "name": "stdout",
     "output_type": "stream",
     "text": [
      "My XGBoost model's train score: 0.6579217520246379\n"
     ]
    }
   ],
   "source": [
    "print(f\"My XGBoost model's train score: {fitted_search.score(X_train, y_train)}\")"
   ]
  },
  {
   "cell_type": "markdown",
   "id": "6c552534",
   "metadata": {},
   "source": [
    "### Model Evaluation"
   ]
  },
  {
   "cell_type": "markdown",
   "id": "49ab8421",
   "metadata": {},
   "source": [
    "We can see that our RandomizedSearch determined that the Logistic Regression with a C-value of 0.001 and Bag of Words vectorizer provided our best estimator. We can visualize our actual and predicted values using a Confusion Matrix in the folowing code block."
   ]
  },
  {
   "cell_type": "code",
   "execution_count": 29,
   "id": "9f7ad22e",
   "metadata": {},
   "outputs": [
    {
     "data": {
      "text/html": [
       "<div>\n",
       "<style scoped>\n",
       "    .dataframe tbody tr th:only-of-type {\n",
       "        vertical-align: middle;\n",
       "    }\n",
       "\n",
       "    .dataframe tbody tr th {\n",
       "        vertical-align: top;\n",
       "    }\n",
       "\n",
       "    .dataframe thead th {\n",
       "        text-align: right;\n",
       "    }\n",
       "</style>\n",
       "<table border=\"1\" class=\"dataframe\">\n",
       "  <thead>\n",
       "    <tr style=\"text-align: right;\">\n",
       "      <th></th>\n",
       "      <th>Predicted Bad</th>\n",
       "      <th>Predicted Good</th>\n",
       "    </tr>\n",
       "  </thead>\n",
       "  <tbody>\n",
       "    <tr>\n",
       "      <th>True Bad</th>\n",
       "      <td>1225</td>\n",
       "      <td>2214</td>\n",
       "    </tr>\n",
       "    <tr>\n",
       "      <th>True Good</th>\n",
       "      <td>440</td>\n",
       "      <td>3636</td>\n",
       "    </tr>\n",
       "  </tbody>\n",
       "</table>\n",
       "</div>"
      ],
      "text/plain": [
       "           Predicted Bad  Predicted Good\n",
       "True Bad            1225            2214\n",
       "True Good            440            3636"
      ]
     },
     "metadata": {},
     "output_type": "display_data"
    }
   ],
   "source": [
    "# use the fitted randomized search to make predictions.\n",
    "y_pred2 = fitted_search.predict(X_test)\n",
    "\n",
    "# Generate confusion matrix\n",
    "sent_matrix = confusion_matrix(y_test, y_pred2)\n",
    "\n",
    "# label rows and columns\n",
    "sent_df = pd.DataFrame(\n",
    "    sent_matrix, \n",
    "    columns=[\"Predicted Bad\", \"Predicted Good\"],\n",
    "    index=[\"True Bad\", \"True Good\"]\n",
    ")\n",
    "\n",
    "display(sent_df)"
   ]
  },
  {
   "cell_type": "code",
   "execution_count": 30,
   "id": "b5332f32",
   "metadata": {},
   "outputs": [
    {
     "data": {
      "image/png": "[encoded data removed]",
      "text/plain": [
       "<Figure size 432x288 with 2 Axes>"
      ]
     },
     "metadata": {
      "needs_background": "light"
     },
     "output_type": "display_data"
    }
   ],
   "source": [
    "plot_confusion_matrix(fitted_search, X_test, y_test);"
   ]
  },
  {
   "cell_type": "markdown",
   "id": "349d4365",
   "metadata": {},
   "source": [
    "We can interpret the confusion matrix above using SKLearn's `classification_report` to compute the model's precision, recall and $F_1$ score."
   ]
  },
  {
   "cell_type": "code",
   "execution_count": 31,
   "id": "ea2e2e1c",
   "metadata": {},
   "outputs": [
    {
     "name": "stdout",
     "output_type": "stream",
     "text": [
      "              precision    recall  f1-score   support\n",
      "\n",
      "           0       0.74      0.36      0.48      3439\n",
      "           1       0.62      0.89      0.73      4076\n",
      "\n",
      "    accuracy                           0.65      7515\n",
      "   macro avg       0.68      0.62      0.61      7515\n",
      "weighted avg       0.67      0.65      0.62      7515\n",
      "\n"
     ]
    }
   ],
   "source": [
    "report_randsearch = classification_report(y_test, y_pred2)\n",
    "print(report_randsearch)"
   ]
  },
  {
   "cell_type": "markdown",
   "id": "80f85011",
   "metadata": {},
   "source": [
    "Based on the classification report for our RandomSearchCV's best estimator, we can observe the following:\n",
    "- Of the total 1,665 reviews predicted to be negative, our model correctly predicted 1,225, whereas for the total 5,850 positive reviews, our model correctly predicted 3,636. This gave our model 74% and 62% negative and positive precision scores respectively. This is weaker than the Logistic Regression model signifying that the XGBoost is relatively weaker at correctly predicting whether a review is actually \"bad\" or \"good\".\n",
    "- In terms of recall, our model scored 36% for negative predictions and 89% for positive predictions.  In essence, of the actual 3,439 negative reviews, our model only correctly predicted 1,225 whereas for the actual 4,076 positive reviews, our model correctly predicted 3,636. In contrast to our earlier findings, the lower recall score for XGBoost implies that we would have more False Positive reviews than in our Logistic Regression.\n",
    "- The precision and recall scores together gave our model a weak 48% $F_1$ score for negative reviews and 73% $F_1$ for positive reviews.\n",
    "- Overall, ourXGBoost model was **65%** accurate at predicting the correct sentiment behind our test set. While this is higher than our baseline DummyClassifier, it is significantly lower than our GridSearchCV model and will thus me removed from further consideration."
   ]
  },
  {
   "cell_type": "code",
   "execution_count": 34,
   "id": "7b8312d2",
   "metadata": {},
   "outputs": [
    {
     "data": {
      "text/plain": [
       "['randsearch_model_xgb.pkl']"
      ]
     },
     "execution_count": 34,
     "metadata": {},
     "output_type": "execute_result"
    }
   ],
   "source": [
    "# Save to pickle\n",
    "randsearch_model_xgb = fitted_search\n",
    "joblib.dump(randsearch_model_xgb, 'randsearch_model_xgb.pkl')    "
   ]
  },
  {
   "cell_type": "markdown",
   "id": "b31188e2",
   "metadata": {},
   "source": [
    "## Conclusion"
   ]
  },
  {
   "cell_type": "markdown",
   "id": "17a5643e",
   "metadata": {},
   "source": [
    "Havig fitted and evaluated our model using both GridSearchCV and RandomizedSearchCV, we will be proceed with interpreting the findings of the **Logistic Regression** model in our next notebook. While the Logistic Regression model displayed some overfitting, it was significantly more accurate when predicting \"bad\" and \"good\" sentiment in our reviews. As such, the next notebook will explore the results of the best model to determine which words are used by reviewers to express \"bad\" and \"good\" sentiment in their reviews."
   ]
  }
 ],
 "metadata": {
  "kernelspec": {
   "display_name": "Python 3 (ipykernel)",
   "language": "python",
   "name": "python3"
  },
  "language_info": {
   "codemirror_mode": {
    "name": "ipython",
    "version": 3
   },
   "file_extension": ".py",
   "mimetype": "text/x-python",
   "name": "python",
   "nbconvert_exporter": "python",
   "pygments_lexer": "ipython3",
   "version": "3.9.7"
  }
 },
 "nbformat": 4,
 "nbformat_minor": 5
}
